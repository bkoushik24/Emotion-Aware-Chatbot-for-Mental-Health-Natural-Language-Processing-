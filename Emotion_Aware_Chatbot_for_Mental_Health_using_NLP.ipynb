{
  "nbformat": 4,
  "nbformat_minor": 0,
  "metadata": {
    "colab": {
      "provenance": []
    },
    "kernelspec": {
      "name": "python3",
      "display_name": "Python 3"
    },
    "language_info": {
      "name": "python"
    }
  },
  "cells": [
    {
      "cell_type": "code",
      "source": [
        "from transformers import pipeline\n",
        "\n",
        "emotion_classifier = pipeline(\"text-classification\", model=\"j-hartmann/emotion-english-distilroberta-base\", return_all_scores=False)\n",
        "\n",
        "def detect_emotion(text):\n",
        "    result = emotion_classifier(text)\n",
        "    return result[0]['label'], result[0]['score']"
      ],
      "metadata": {
        "colab": {
          "base_uri": "https://localhost:8080/"
        },
        "id": "AcpCBwbobr9P",
        "outputId": "06ebe543-ed96-4f1e-fc2b-8cec5f463c68"
      },
      "execution_count": null,
      "outputs": [
        {
          "output_type": "stream",
          "name": "stderr",
          "text": [
            "Device set to use cpu\n",
            "/usr/local/lib/python3.11/dist-packages/transformers/pipelines/text_classification.py:106: UserWarning: `return_all_scores` is now deprecated,  if want a similar functionality use `top_k=None` instead of `return_all_scores=True` or `top_k=1` instead of `return_all_scores=False`.\n",
            "  warnings.warn(\n"
          ]
        }
      ]
    },
    {
      "cell_type": "code",
      "source": [
        "from textblob import TextBlob\n",
        "\n",
        "def get_sentiment(text):\n",
        "    blob = TextBlob(text)\n",
        "    polarity = blob.sentiment.polarity\n",
        "    if polarity > 0.1:\n",
        "        return \"Positive\"\n",
        "    elif polarity < -0.1:\n",
        "        return \"Negative\"\n",
        "    else:\n",
        "        return \"Neutral\""
      ],
      "metadata": {
        "id": "xqgctlawbw8A"
      },
      "execution_count": null,
      "outputs": []
    },
    {
      "cell_type": "code",
      "source": [
        "def generate_response(emotion, sentiment):\n",
        "    empathetic_responses = {\n",
        "        \"joy\": \"That's wonderful to hear! Remember to cherish these joyful moments.\",\n",
        "        \"sadness\": \"I'm sorry you're feeling this way. It's okay to feel sad. You're not alone.\",\n",
        "        \"anger\": \"It's okay to be upset. Try taking a few deep breaths and giving yourself space.\",\n",
        "        \"fear\": \"Feeling scared can be overwhelming. You're safe here — would you like to talk about it?\",\n",
        "        \"love\": \"That’s beautiful. Love brings a lot of strength. Hold onto it.\",\n",
        "        \"surprise\": \"Surprises can be both fun and scary. I hope it's a good one!\",\n",
        "        \"neutral\": \"I'm here to talk about anything on your mind.\",\n",
        "    }\n",
        "    if sentiment == \"Negative\" and emotion == \"joy\":\n",
        "        return \"You seem happy, but your words sound a little different. Want to talk more about it?\"\n",
        "\n",
        "    return empathetic_responses.get(emotion.lower(), \"I'm here for you. Would you like to talk more?\")"
      ],
      "metadata": {
        "id": "aAZx-Cy3b1AP"
      },
      "execution_count": null,
      "outputs": []
    },
    {
      "cell_type": "code",
      "source": [
        "from transformers import pipeline\n",
        "\n",
        "emotion_classifier = pipeline(\"text-classification\", model=\"j-hartmann/emotion-english-distilroberta-base\", return_all_scores=False)\n",
        "\n",
        "def detect_emotion(text):\n",
        "    result = emotion_classifier(text)\n",
        "    return result[0]['label'], result[0]['score']"
      ],
      "metadata": {
        "colab": {
          "base_uri": "https://localhost:8080/"
        },
        "id": "-cSA_iWocBuG",
        "outputId": "658f0392-26b5-4ccd-fbce-1c9fdad3cd3f"
      },
      "execution_count": null,
      "outputs": [
        {
          "output_type": "stream",
          "name": "stderr",
          "text": [
            "Device set to use cpu\n",
            "/usr/local/lib/python3.11/dist-packages/transformers/pipelines/text_classification.py:106: UserWarning: `return_all_scores` is now deprecated,  if want a similar functionality use `top_k=None` instead of `return_all_scores=True` or `top_k=1` instead of `return_all_scores=False`.\n",
            "  warnings.warn(\n"
          ]
        }
      ]
    },
    {
      "cell_type": "code",
      "source": [
        "from textblob import TextBlob\n",
        "\n",
        "def get_sentiment(text):\n",
        "    blob = TextBlob(text)\n",
        "    polarity = blob.sentiment.polarity\n",
        "    if polarity > 0.1:\n",
        "        return \"Positive\"\n",
        "    elif polarity < -0.1:\n",
        "        return \"Negative\"\n",
        "    else:\n",
        "        return \"Neutral\""
      ],
      "metadata": {
        "id": "upID4EDxcFwf"
      },
      "execution_count": null,
      "outputs": []
    },
    {
      "cell_type": "code",
      "source": [
        "def generate_response(emotion, sentiment):\n",
        "    empathetic_responses = {\n",
        "        \"joy\": \"That's wonderful to hear! Remember to cherish these joyful moments.\",\n",
        "        \"sadness\": \"I'm sorry you're feeling this way. It's okay to feel sad. You're not alone.\",\n",
        "        \"anger\": \"It's okay to be upset. Try taking a few deep breaths and giving yourself space.\",\n",
        "        \"fear\": \"Feeling scared can be overwhelming. You're safe here — would you like to talk about it?\",\n",
        "        \"love\": \"That’s beautiful. Love brings a lot of strength. Hold onto it.\",\n",
        "        \"surprise\": \"Surprises can be both fun and scary. I hope it's a good one!\",\n",
        "        \"neutral\": \"I'm here to talk about anything on your mind.\",\n",
        "    }\n",
        "\n",
        "    if sentiment == \"Negative\" and emotion == \"joy\":\n",
        "        return \"You seem happy, but your words sound a little different. Want to talk more about it?\"\n",
        "\n",
        "    return empathetic_responses.get(emotion.lower(), \"I'm here for you. Would you like to talk more?\")"
      ],
      "metadata": {
        "id": "1-C9syBKcJRp"
      },
      "execution_count": null,
      "outputs": []
    },
    {
      "cell_type": "code",
      "source": [
        "from transformers import pipeline\n",
        "from textblob import TextBlob\n",
        "\n",
        "emotion_classifier = pipeline(\"text-classification\", model=\"j-hartmann/emotion-english-distilroberta-base\")\n",
        "\n",
        "def detect_emotion(text):\n",
        "    result = emotion_classifier(text)\n",
        "    return result[0]['label'], result[0]['score']\n",
        "\n",
        "def get_sentiment(text):\n",
        "    blob = TextBlob(text)\n",
        "    polarity = blob.sentiment.polarity\n",
        "    if polarity > 0.1:\n",
        "        return \"Positive\"\n",
        "    elif polarity < -0.1:\n",
        "        return \"Negative\"\n",
        "    else:\n",
        "        return \"Neutral\"\n",
        "\n",
        "def generate_response(emotion, sentiment):\n",
        "    responses = {\n",
        "        \"joy\": \"That's wonderful to hear! Cherish those moments.\",\n",
        "        \"sadness\": \"I'm sorry you're feeling this way. You're not alone.\",\n",
        "        \"anger\": \"It's okay to be angry sometimes. Take deep breaths.\",\n",
        "        \"fear\": \"You're safe here. Want to talk about it?\",\n",
        "        \"love\": \"That's beautiful. Love is powerful.\",\n",
        "        \"surprise\": \"I hope it's a pleasant surprise!\",\n",
        "        \"neutral\": \"I'm here if you want to talk.\",\n",
        "    }\n",
        "    return responses.get(emotion.lower(), \"I'm here for you.\")\n",
        "\n",
        "def chatbot_reply(user_input):\n",
        "    if not user_input.strip():\n",
        "        return \"Please share your thoughts with me.\"\n",
        "    emotion, confidence = detect_emotion(user_input)\n",
        "    sentiment = get_sentiment(user_input)\n",
        "    response = generate_response(emotion, sentiment)\n",
        "    return f\"Emotion: {emotion} ({confidence:.2f})\\nSentiment: {sentiment}\\n\\n{response}\"\n",
        "\n",
        "import gradio as gr\n",
        "gr.Interface(fn=chatbot_reply, inputs=\"text\", outputs=\"text\", title=\"Emotion-Aware Chatbot\").launch()"
      ],
      "metadata": {
        "colab": {
          "base_uri": "https://localhost:8080/",
          "height": 663
        },
        "id": "zvXDZ6KMcMVn",
        "outputId": "b61ed88a-3789-485e-e284-0c049442b28c"
      },
      "execution_count": null,
      "outputs": [
        {
          "output_type": "stream",
          "name": "stderr",
          "text": [
            "Device set to use cpu\n"
          ]
        },
        {
          "output_type": "stream",
          "name": "stdout",
          "text": [
            "It looks like you are running Gradio on a hosted a Jupyter notebook. For the Gradio app to work, sharing must be enabled. Automatically setting `share=True` (you can turn this off by setting `share=False` in `launch()` explicitly).\n",
            "\n",
            "Colab notebook detected. To show errors in colab notebook, set debug=True in launch()\n",
            "* Running on public URL: https://ced31d5a1be73d2b9c.gradio.live\n",
            "\n",
            "This share link expires in 1 week. For free permanent hosting and GPU upgrades, run `gradio deploy` from the terminal in the working directory to deploy to Hugging Face Spaces (https://huggingface.co/spaces)\n"
          ]
        },
        {
          "output_type": "display_data",
          "data": {
            "text/plain": [
              "<IPython.core.display.HTML object>"
            ],
            "text/html": [
              "<div><iframe src=\"https://ced31d5a1be73d2b9c.gradio.live\" width=\"100%\" height=\"500\" allow=\"autoplay; camera; microphone; clipboard-read; clipboard-write;\" frameborder=\"0\" allowfullscreen></iframe></div>"
            ]
          },
          "metadata": {}
        },
        {
          "output_type": "execute_result",
          "data": {
            "text/plain": []
          },
          "metadata": {},
          "execution_count": 32
        }
      ]
    }
  ]
}